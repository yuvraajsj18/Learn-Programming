{
 "cells": [
  {
   "cell_type": "code",
   "execution_count": 4,
   "metadata": {},
   "outputs": [
    {
     "data": {
      "text/plain": [
       "'\\nWhen we profile this script, we get information in a tabular form.\\nThe columns are ncalls, tottime, percall, cumtime, \\npercall, and filename:lineno(function). \\nThey represent the amount of calls we made to a function, \\nhow much time we spent in it, and so on.\\n'"
      ]
     },
     "execution_count": 4,
     "metadata": {},
     "output_type": "execute_result"
    }
   ],
   "source": [
    "# calculating pythogorian triples\n",
    "\n",
    "def calc_triples(mx):\n",
    "    triples = []\n",
    "    for a in range(1, mx + 1):\n",
    "        for b in range(a, mx + 1):\n",
    "            hypotenuse = calc_hypotenuse(a, b)\n",
    "            if is_int(hypotenuse):\n",
    "                triples.append((a, b, int(hypotenuse)))\n",
    "    return triples\n",
    " \n",
    " \n",
    "def calc_hypotenuse(a, b):\n",
    "    return (a**2 + b**2) ** .5\n",
    " \n",
    " \n",
    "def is_int(n):  # n is expected to be a float\n",
    "    return n.is_integer()\n",
    " \n",
    " \n",
    "triples = calc_triples(1000)\n",
    "\n",
    "\"\"\"\n",
    "When we profile this script, we get information in a tabular form.\n",
    "The columns are ncalls, tottime, percall, cumtime, \n",
    "percall, and filename:lineno(function). \n",
    "They represent the amount of calls we made to a function, \n",
    "how much time we spent in it, and so on.\n",
    "\"\"\"\n",
    "\n",
    "\n",
    "\"\"\"\n",
    "  profiling command - python -m cProfile main.py\n",
    "\"\"\""
   ]
  }
 ],
 "metadata": {
  "kernelspec": {
   "display_name": "Python 3",
   "language": "python",
   "name": "python3"
  },
  "language_info": {
   "codemirror_mode": {
    "name": "ipython",
    "version": 3
   },
   "file_extension": ".py",
   "mimetype": "text/x-python",
   "name": "python",
   "nbconvert_exporter": "python",
   "pygments_lexer": "ipython3",
   "version": "3.8.2"
  }
 },
 "nbformat": 4,
 "nbformat_minor": 4
}
