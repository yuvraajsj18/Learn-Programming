{
 "cells": [
  {
   "cell_type": "code",
   "execution_count": 15,
   "metadata": {},
   "outputs": [
    {
     "name": "stdout",
     "output_type": "stream",
     "text": [
      "An excerpt from Fear - By Thich Nhat Hanh\n",
      "\n",
      "The Present Is Free from Fear\n",
      "\n",
      "When we are not fully present, we are not really living. We’re not really there, either for our loved ones or for ourselves. If we’re not there, then where are we? We are running, running, running, even during our sleep. We run because we’re trying to escape from our fear.\n",
      "\n",
      "We cannot enjoy life if we spend our time and energy worrying about what happened yesterday and what will happen tomorrow. If we’re afraid all the time, we miss out on the wonderful fact that we’re alive and can be happy right now. In everyday life, we tend to believe that happiness is only possible in the future. We’re always looking for the “right” conditions that we don’t yet have to make us happy. We ignore what is happening right in front of us. We look for something that will make us feel more solid, more safe, more secure. But we’re afraid all the time of what the future will bring—afraid we’ll lose our jobs, our possessions, the people around us whom we love. So we wait and hope for that magical moment—always sometime in the future—when everything will be as we want it to be. We forget that life is available only in the present moment. The Buddha said, “It is possible to live happily in the present moment. It is the only moment we have.”\n",
      "An excerpt from Fear - By Thich Nhat Hanh\n",
      "\n",
      "The Present Is Free from Fear\n",
      "\n",
      "When we are not fully present, we are not really living. We’re not really there, either for our loved ones or for ourselves. If we’re not there, then where are we? We are running, running, running, even during our sleep. We run because we’re trying to escape from our fear.\n",
      "\n",
      "We cannot enjoy life if we spend our time and energy worrying about what happened yesterday and what will happen tomorrow. If we’re afraid all the time, we miss out on the wonderful fact that we’re alive and can be happy right now. In everyday life, we tend to believe that happiness is only possible in the future. We’re always looking for the “right” conditions that we don’t yet have to make us happy. We ignore what is happening right in front of us. We look for something that will make us feel more solid, more safe, more secure. But we’re afraid all the time of what the future will bring—afraid we’ll lose our jobs, our possessions, the people around us whom we love. So we wait and hope for that magical moment—always sometime in the future—when everything will be as we want it to be. We forget that life is available only in the present moment. The Buddha said, “It is possible to live happily in the present moment. It is the only moment we have.”\n"
     ]
    }
   ],
   "source": [
    "# Opening files\n",
    "\n",
    "f = open('fear.txt', 'rt')   # r: read, t: text\n",
    "\n",
    "for line in f.readlines():\n",
    "    print(line.strip())\n",
    "    \n",
    "f.close()\n",
    "\n",
    "\n",
    "f = open('fear.txt', 'rt')   # r: read, t: text\n",
    "\n",
    "for line in f:\n",
    "    print(line.strip())\n",
    "    \n",
    "f.close()"
   ]
  },
  {
   "cell_type": "code",
   "execution_count": 19,
   "metadata": {},
   "outputs": [
    {
     "name": "stdout",
     "output_type": "stream",
     "text": [
      "An excerpt from Fear - By Thich Nhat Hanh\n",
      "\n",
      "The Present Is Free from Fear\n",
      "\n",
      "When we are not fully present, we are not really living. We’re not really there, either for our loved ones or for ourselves. If we’re not there, then where are we? We are running, running, running, even during our sleep. We run because we’re trying to escape from our fear.\n",
      "\n",
      "We cannot enjoy life if we spend our time and energy worrying about what happened yesterday and what will happen tomorrow. If we’re afraid all the time, we miss out on the wonderful fact that we’re alive and can be happy right now. In everyday life, we tend to believe that happiness is only possible in the future. We’re always looking for the “right” conditions that we don’t yet have to make us happy. We ignore what is happening right in front of us. We look for something that will make us feel more solid, more safe, more secure. But we’re afraid all the time of what the future will bring—afraid we’ll lose our jobs, our possessions, the people around us whom we love. So we wait and hope for that magical moment—always sometime in the future—when everything will be as we want it to be. We forget that life is available only in the present moment. The Buddha said, “It is possible to live happily in the present moment. It is the only moment we have.”\n"
     ]
    }
   ],
   "source": [
    "# whatever error might occur while we try to open and\n",
    "# read the file, \n",
    "# we can rest assured that close() will be called with the context manager\n",
    "\n",
    "with open('fear.txt') as f:\n",
    "    for line in f:\n",
    "        print(line.strip())"
   ]
  },
  {
   "cell_type": "code",
   "execution_count": 31,
   "metadata": {},
   "outputs": [
    {
     "name": "stdout",
     "output_type": "stream",
     "text": [
      "['An excerpt from Fear - By Thich Nhat Hanh', '', 'The Present Is Free from Fear', '', 'When we are not fully present, we are not really living. We’re not really there, either for our loved ones or for ourselves. If we’re not there, then where are we? We are running, running, running, even during our sleep. We run because we’re trying to escape from our fear.', '', 'We cannot enjoy life if we spend our time and energy worrying about what happened yesterday and what will happen tomorrow. If we’re afraid all the time, we miss out on the wonderful fact that we’re alive and can be happy right now. In everyday life, we tend to believe that happiness is only possible in the future. We’re always looking for the “right” conditions that we don’t yet have to make us happy. We ignore what is happening right in front of us. We look for something that will make us feel more solid, more safe, more secure. But we’re afraid all the time of what the future will bring—afraid we’ll lose our jobs, our possessions, the people around us whom we love. So we wait and hope for that magical moment—always sometime in the future—when everything will be as we want it to be. We forget that life is available only in the present moment. The Buddha said, “It is possible to live happily in the present moment. It is the only moment we have.”']\n"
     ]
    }
   ],
   "source": [
    "# reading and writing to file\n",
    "\n",
    "# writing\n",
    "# first way - using print function\n",
    "with open('print_example.txt', 'w') as fw:\n",
    "    print('Hey I am printing to a file', file=fw)\n",
    "    print('Another line with print', file=fw)\n",
    "    \n",
    "# second and more common way - using write\n",
    "with open('fear.txt') as f:\n",
    "    lines = [line.rstrip() for line in f]\n",
    "\n",
    "print(lines)\n",
    "\n",
    "with open('fear_copy.txt', 'w') as fw:\n",
    "    fw.write('\\n'.join(lines))"
   ]
  },
  {
   "cell_type": "code",
   "execution_count": 51,
   "metadata": {},
   "outputs": [
    {
     "name": "stdout",
     "output_type": "stream",
     "text": [
      "b'This is binary data\\nAnother binary line'\n"
     ]
    }
   ],
   "source": [
    "# in binary mode\n",
    "\n",
    "with open('example.bin', 'wb') as fw:   # w: write, b: binary\n",
    "    fw.write(b'This is binary data\\n')\n",
    "    fw.write(b'Another binary line')\n",
    "    \n",
    "with open('example.bin', 'rb') as f:\n",
    "    print(f.read())"
   ]
  },
  {
   "cell_type": "code",
   "execution_count": 53,
   "metadata": {},
   "outputs": [
    {
     "ename": "FileExistsError",
     "evalue": "[Errno 17] File exists: 'write_x.txt'",
     "output_type": "error",
     "traceback": [
      "\u001b[0;31m---------------------------------------------------------------------------\u001b[0m",
      "\u001b[0;31mFileExistsError\u001b[0m                           Traceback (most recent call last)",
      "\u001b[0;32m<ipython-input-53-e85367a8c121>\u001b[0m in \u001b[0;36m<module>\u001b[0;34m\u001b[0m\n\u001b[1;32m      3\u001b[0m \u001b[0;31m# you can use the 'x' flag instead, in the following example\u001b[0m\u001b[0;34m\u001b[0m\u001b[0;34m\u001b[0m\u001b[0;34m\u001b[0m\u001b[0m\n\u001b[1;32m      4\u001b[0m \u001b[0;34m\u001b[0m\u001b[0m\n\u001b[0;32m----> 5\u001b[0;31m \u001b[0;32mwith\u001b[0m \u001b[0mopen\u001b[0m\u001b[0;34m(\u001b[0m\u001b[0;34m'write_x.txt'\u001b[0m\u001b[0;34m,\u001b[0m \u001b[0;34m'x'\u001b[0m\u001b[0;34m)\u001b[0m \u001b[0;32mas\u001b[0m \u001b[0mfw\u001b[0m\u001b[0;34m:\u001b[0m\u001b[0;34m\u001b[0m\u001b[0;34m\u001b[0m\u001b[0m\n\u001b[0m\u001b[1;32m      6\u001b[0m     \u001b[0mfw\u001b[0m\u001b[0;34m.\u001b[0m\u001b[0mwrite\u001b[0m\u001b[0;34m(\u001b[0m\u001b[0;34m'Writing line 1'\u001b[0m\u001b[0;34m)\u001b[0m  \u001b[0;31m# this succeeds\u001b[0m\u001b[0;34m\u001b[0m\u001b[0;34m\u001b[0m\u001b[0m\n\u001b[1;32m      7\u001b[0m \u001b[0;34m\u001b[0m\u001b[0m\n",
      "\u001b[0;31mFileExistsError\u001b[0m: [Errno 17] File exists: 'write_x.txt'"
     ]
    }
   ],
   "source": [
    "# f you wish to only open a file for writing in case \n",
    "# it doesn't exist, \n",
    "# you can use the 'x' flag instead, in the following example\n",
    "\n",
    "with open('write_x.txt', 'x') as fw:\n",
    "    fw.write('Writing line 1')  # this succeeds\n",
    " \n",
    "with open('write_x.txt', 'x') as fw:\n",
    "    fw.write('Writing line 2')  # this fails"
   ]
  },
  {
   "cell_type": "code",
   "execution_count": 3,
   "metadata": {},
   "outputs": [
    {
     "name": "stdout",
     "output_type": "stream",
     "text": [
      "True\n",
      "True\n",
      "/mnt/DC84407A844058E2/CS/learning_cs/py/py_workspace/tutorial/file_operations/files\n"
     ]
    }
   ],
   "source": [
    "# Checking for file and Directory Existence\n",
    "# using os\n",
    "\n",
    "import os\n",
    "\n",
    "filename = 'fear.txt'\n",
    "path = os.path.dirname(os.path.abspath(filename))\n",
    "\n",
    "print(os.path.isfile(filename))\n",
    "print(os.path.isdir(path))\n",
    "print(path)"
   ]
  },
  {
   "cell_type": "code",
   "execution_count": 73,
   "metadata": {},
   "outputs": [
    {
     "name": "stdout",
     "output_type": "stream",
     "text": [
      "[(' ', 244), ('e', 154), ('t', 84)]\n"
     ]
    }
   ],
   "source": [
    "# Manipulating files and directories\n",
    "\n",
    "# manipulating files\n",
    "from collections import Counter\n",
    "from string import ascii_letters\n",
    " \n",
    "chars = ascii_letters + ' '\n",
    " \n",
    "def sanitize(s, chars):\n",
    "    return ''.join(c for c in s if c in chars)\n",
    " \n",
    "def reverse(s):\n",
    "    return s[::-1]\n",
    " \n",
    "with open('fear.txt') as stream:\n",
    "    lines = [line.rstrip() for line in stream]\n",
    " \n",
    "with open('raef.txt', 'w') as stream:\n",
    "    stream.write('\\n'.join(reverse(line) for line in lines))\n",
    " \n",
    "# now we can calculate some statistics\n",
    "lines = [sanitize(line, chars) for line in lines]\n",
    "whole = ' '.join(lines)\n",
    "cnt = Counter(whole.lower().split())\n",
    "print(cnt.most_common(3))"
   ]
  },
  {
   "cell_type": "code",
   "execution_count": 72,
   "metadata": {},
   "outputs": [
    {
     "name": "stdout",
     "output_type": "stream",
     "text": [
      "Directory already exist\n",
      "ops_example/A/B\n",
      "ops_example/A/C\n",
      "ops_example/A/D\n",
      "Directories already present\n"
     ]
    },
    {
     "data": {
      "text/plain": [
       "'ops_example/A/D/ex1d.txt'"
      ]
     },
     "execution_count": 72,
     "metadata": {},
     "output_type": "execute_result"
    }
   ],
   "source": [
    "# manipulating directories\n",
    "import shutil\n",
    "import os\n",
    " \n",
    "BASE_PATH = 'ops_example'  # this will be our base path\n",
    "\n",
    "try:\n",
    "    os.mkdir(BASE_PATH)\n",
    "except FileExistsError:\n",
    "    print('Directory already exist')\n",
    "    \n",
    "path_b = os.path.join(BASE_PATH, 'A', 'B')\n",
    "path_c = os.path.join(BASE_PATH, 'A', 'C')\n",
    "path_d = os.path.join(BASE_PATH, 'A', 'D')\n",
    "\n",
    "print(path_b)\n",
    "print(path_c)\n",
    "print(path_d)\n",
    "\n",
    "try:\n",
    "    os.makedirs(path_b)\n",
    "    os.makedirs(path_c)\n",
    "except FileExistsError:\n",
    "    print('Directories already present')\n",
    "\n",
    "for filename in ('ex1.txt', 'ex2.txt', 'ex3.txt'):\n",
    "    with open(os.path.join(path_b, filename), 'w') as stream:\n",
    "        stream.write(f'Some content here in {filename}\\n')\n",
    "        \n",
    "shutil.move(path_b, path_d)\n",
    "\n",
    "shutil.move(\n",
    "    os.path.join(path_d, 'ex1.txt'),\n",
    "    os.path.join(path_d, 'ex1d.txt')\n",
    ")"
   ]
  },
  {
   "cell_type": "code",
   "execution_count": 78,
   "metadata": {},
   "outputs": [
    {
     "name": "stdout",
     "output_type": "stream",
     "text": [
      "path: \t\t /mnt/DC84407A844058E2/CS/learning_cs/py/py_workspace/tutorial/file_operations/files/fear.txt\n",
      "basename: \t fear.txt\n",
      "dirname: \t /mnt/DC84407A844058E2/CS/learning_cs/py/py_workspace/tutorial/file_operations/files\n",
      "splitext: \t ('/mnt/DC84407A844058E2/CS/learning_cs/py/py_workspace/tutorial/file_operations/files/fear', '.txt')\n",
      "split: \t\t ('/mnt/DC84407A844058E2/CS/learning_cs/py/py_workspace/tutorial/file_operations/files', 'fear.txt')\n",
      "\n",
      "readme path: \t /mnt/DC84407A844058E2/CS/learning_cs/py/py_workspace/tutorial/file_operations/files/../../README.rst\n",
      "normalized: \t /mnt/DC84407A844058E2/CS/learning_cs/py/py_workspace/tutorial/README.rst\n"
     ]
    }
   ],
   "source": [
    "# manipulating pathnames\n",
    "\n",
    "import os\n",
    " \n",
    "filename = 'fear.txt'\n",
    "path = os.path.abspath(filename)\n",
    " \n",
    "print('path: \\t\\t', path)\n",
    "print('basename: \\t', os.path.basename(path))\n",
    "print('dirname: \\t', os.path.dirname(path))\n",
    "print('splitext: \\t', os.path.splitext(path))\n",
    "print('split: \\t\\t', os.path.split(path))\n",
    "\n",
    "print()\n",
    " \n",
    "readme_path = os.path.join(\n",
    "    os.path.dirname(path), '..', '..', 'README.rst')\n",
    "print('readme path: \\t', readme_path)\n",
    "print('normalized: \\t', os.path.normpath(readme_path))"
   ]
  },
  {
   "cell_type": "code",
   "execution_count": 85,
   "metadata": {},
   "outputs": [
    {
     "name": "stdout",
     "output_type": "stream",
     "text": [
      "Temp directory: ./tmpxah62fhk\n",
      "/mnt/DC84407A844058E2/CS/learning_cs/py/py_workspace/tutorial/file_operations/files/tmpxah62fhk/tmp76rwiv5_\n"
     ]
    }
   ],
   "source": [
    "# Temporary File and Directories\n",
    "\n",
    "import os\n",
    "from tempfile import NamedTemporaryFile, TemporaryDirectory\n",
    " \n",
    "with TemporaryDirectory(dir='.') as td:\n",
    "    print('Temp directory:', td)\n",
    "    with NamedTemporaryFile(dir=td) as t:\n",
    "        name = t.name\n",
    "        print(os.path.abspath(name))"
   ]
  },
  {
   "cell_type": "code",
   "execution_count": 92,
   "metadata": {},
   "outputs": [
    {
     "name": "stdout",
     "output_type": "stream",
     "text": [
      ".ipynb_checkpoints ./.ipynb_checkpoints Folder\n",
      "example.bin ./example.bin File\n",
      "fear.txt ./fear.txt File\n",
      "fear_copy.txt ./fear_copy.txt File\n",
      "files.ipynb ./files.ipynb File\n",
      "ops_example ./ops_example Folder\n",
      "print_example.txt ./print_example.txt File\n",
      "raef.txt ./raef.txt File\n",
      "write_x.txt ./write_x.txt File\n",
      "\n",
      "/mnt/DC84407A844058E2/CS/learning_cs/py/py_workspace/tutorial/file_operations/files\n",
      "Directories:\n",
      ".ipynb_checkpoints\n",
      "ops_example\n",
      "\n",
      "Files:\n",
      "example.bin\n",
      "fear.txt\n",
      "fear_copy.txt\n",
      "files.ipynb\n",
      "print_example.txt\n",
      "raef.txt\n",
      "write_x.txt\n",
      "\n",
      "/mnt/DC84407A844058E2/CS/learning_cs/py/py_workspace/tutorial/file_operations/files/.ipynb_checkpoints\n",
      "Files:\n",
      "files-checkpoint.ipynb\n",
      "\n",
      "/mnt/DC84407A844058E2/CS/learning_cs/py/py_workspace/tutorial/file_operations/files/ops_example\n",
      "Directories:\n",
      "A\n",
      "\n",
      "/mnt/DC84407A844058E2/CS/learning_cs/py/py_workspace/tutorial/file_operations/files/ops_example/A\n",
      "Directories:\n",
      "C\n",
      "D\n",
      "\n",
      "/mnt/DC84407A844058E2/CS/learning_cs/py/py_workspace/tutorial/file_operations/files/ops_example/A/C\n",
      "/mnt/DC84407A844058E2/CS/learning_cs/py/py_workspace/tutorial/file_operations/files/ops_example/A/D\n",
      "Files:\n",
      "ex1d.txt\n",
      "ex2.txt\n",
      "ex3.txt\n",
      "\n"
     ]
    },
    {
     "data": {
      "text/plain": [
       "'\\nRunning the preceding snippet will produce a list of all \\nfiles and directories in the \\ncurrent one, and it will do the same for each sub-directory.\\n'"
      ]
     },
     "execution_count": 92,
     "metadata": {},
     "output_type": "execute_result"
    }
   ],
   "source": [
    "# Inspecting directory content\n",
    "\n",
    "import os\n",
    " \n",
    "with os.scandir('.') as it:\n",
    "    for entry in it:\n",
    "        print(\n",
    "            entry.name, entry.path,\n",
    "            'File' if entry.is_file() else 'Folder'\n",
    "        )\n",
    "\n",
    "print()\n",
    "\n",
    "# using walk\n",
    "import os\n",
    " \n",
    "for root, dirs, files in os.walk('.'):\n",
    "    print(os.path.abspath(root))\n",
    "    if dirs:\n",
    "        print('Directories:')\n",
    "        for dir_ in dirs:\n",
    "            print(dir_)\n",
    "        print()\n",
    "    if files:\n",
    "        print('Files:')\n",
    "        for filename in files:\n",
    "            print(filename)\n",
    "        print()\n",
    "        \n",
    "\"\"\"\n",
    "Running the preceding snippet will produce a list of all \n",
    "files and directories in the \n",
    "current one, and it will do the same for each sub-directory.\n",
    "\"\"\""
   ]
  },
  {
   "cell_type": "code",
   "execution_count": 99,
   "metadata": {},
   "outputs": [],
   "source": [
    "# File and Directory Compression\n",
    "\n",
    "from zipfile import ZipFile\n",
    "\n",
    "\n",
    "with ZipFile('example.zip', 'w') as zp:\n",
    "    zp.write('fear.txt')\n",
    "    zp.write('raef.txt')\n",
    "    zp.write('fear_copy.txt')\n",
    "\n",
    "with ZipFile('example.zip') as zp:\n",
    "    zp.extract('fear.txt', 'extract_zip')\n",
    "    zp.extract('raef.txt', 'extract_zip')\n",
    "    zp.extract('fear_copy.txt', 'extract_zip')"
   ]
  },
  {
   "cell_type": "code",
   "execution_count": 114,
   "metadata": {},
   "outputs": [
    {
     "name": "stdout",
     "output_type": "stream",
     "text": [
      "['id', 'first_name', 'last_name', 'email', 'gender', 'ip_address']\n",
      "['1', 'Skipton', 'Mattiacci', 'smattiacci0@berkeley.edu', 'Male', '196.4.235.14']\n",
      "['2', 'Keith', 'Rosenfelder', 'krosenfelder1@icq.com', 'Male', '26.145.67.148']\n",
      "['3', 'Helaina', 'Ind', 'hind2@japanpost.jp', 'Female', '32.201.244.49']\n",
      "['4', 'Joelly', 'Milesap', 'jmilesap3@dot.gov', 'Female', '74.199.54.89']\n",
      "['5', 'Portie', 'MacCoughan', 'pmaccoughan4@mapquest.com', 'Male', '61.150.82.117']\n",
      "['6', 'Fletcher', 'Reynold', 'freynold5@blogs.com', 'Male', '254.202.181.187']\n",
      "['7', 'Arnaldo', 'Batch', 'abatch6@umich.edu', 'Male', '137.231.46.255']\n",
      "['8', 'Galven', 'Turban', 'gturban7@google.es', 'Male', '180.52.139.226']\n",
      "['9', 'Cele', 'La Vigne', 'clavigne8@house.gov', 'Female', '125.202.213.224']\n",
      "['10', 'Sherwin', 'Lydall', 'slydall9@eventbrite.com', 'Male', '9.153.155.182']\n",
      "['name', 'age']\n",
      "['Harry Potter', '11']\n",
      "['Hermoinie', '11']\n",
      "name name\n",
      "age age\n",
      "name Harry Potter\n",
      "age 11\n",
      "name Hermoinie\n",
      "age 11\n"
     ]
    }
   ],
   "source": [
    "# CSV files\n",
    "import csv\n",
    "\n",
    "# reading from a csv file\n",
    "with open(\"mock_data.csv\", 'r') as f:\n",
    "    csv_reader = csv.reader(f)\n",
    "    number_of_lines = 0\n",
    "    for row in csv_reader:  # returns a list of values as string\n",
    "        print(row)\n",
    "        if number_of_lines == 10:\n",
    "            break\n",
    "        number_of_lines += 1\n",
    "\n",
    "\n",
    "# writing a csv file\n",
    "with open('my_csv_file0.csv', 'w') as f:\n",
    "    csv_writer = csv.writer(f)\n",
    "    csv_writer.writerow(['name', 'age'])    # writes a row from a list\n",
    "    csv_writer.writerow(['Harry Potter', '11'])\n",
    "\n",
    "# writing multiple rows at once from an iterable of rows\n",
    "data = [\n",
    "    ['name', 'age'],\n",
    "    ['harry potter', 11],\n",
    "    ['ron wiesly', 11],\n",
    "    ['hermoinie granger', 11]\n",
    "]\n",
    "with open(\"my_csv_file1.csv\", 'w') as f:\n",
    "    csv_writer = csv.writer(f)\n",
    "    csv_writer.writerows(data)\n",
    "\n",
    "# writing with a dictionary to csv\n",
    "data = [\n",
    "    {\n",
    "    \"name\": \"Harry Potter\",\n",
    "    \"age\": 11\n",
    "    },\n",
    "    {\n",
    "        \"name\": \"Hermoinie\",\n",
    "        \"age\": 11,\n",
    "    }\n",
    "]\n",
    "with open(\"my_csv_file2.csv\", 'w+') as f:\n",
    "    fields = ['name', 'age']\n",
    "    csv_writer = csv.DictWriter(f, fieldnames=fields)\n",
    "    csv_writer.writeheader()\n",
    "    csv_writer.writerows(data)  # writerow if single dict\n",
    "\n",
    "    f.seek(0)\n",
    "    csv_reader = csv.reader(f)\n",
    "    for line in csv_reader:\n",
    "        print(line)\n",
    "\n",
    "    f.seek(0)\n",
    "    csv_reader = csv.DictReader(f, fieldnames=fields)\n",
    "    for line in csv_reader:\n",
    "        for key, value in line.items():\n",
    "            print(key, value)\n"
   ]
  },
  {
   "cell_type": "code",
   "execution_count": 127,
   "metadata": {},
   "outputs": [
    {
     "name": "stdout",
     "output_type": "stream",
     "text": [
      "True\n"
     ]
    }
   ],
   "source": [
    "# Working with JSON\n",
    "\n",
    "import sys\n",
    "import json\n",
    "\n",
    "data = {\n",
    "    'big_number': 2 ** 3141,\n",
    "    'max_float': sys.float_info.max,\n",
    "    'a_list': [2, 3, 5, 7],\n",
    "}\n",
    "\n",
    "json_data = json.dumps(data)   # converts to json format\n",
    "# print(json_data)\n",
    "data_out = json.loads(json_data) # converts back to python from json\n",
    "print(data == data_out)"
   ]
  },
  {
   "cell_type": "code",
   "execution_count": 130,
   "metadata": {},
   "outputs": [
    {
     "name": "stdout",
     "output_type": "stream",
     "text": [
      "{\n",
      "  \"address\": {\n",
      "    \"city\": \"London\",\n",
      "    \"country\": \"UK\",\n",
      "    \"street\": \"221B Baker St\",\n",
      "    \"zip\": \"NW1 6XE\"\n",
      "  },\n",
      "  \"full_name\": \"Sherlock Holmes\"\n",
      "}\n"
     ]
    }
   ],
   "source": [
    "import json\n",
    " \n",
    "info = {\n",
    "    'full_name': 'Sherlock Holmes',\n",
    "    'address': {\n",
    "        'street': '221B Baker St',\n",
    "        'zip': 'NW1 6XE',\n",
    "        'city': 'London',\n",
    "        'country': 'UK',\n",
    "    }\n",
    "}\n",
    " \n",
    "print(json.dumps(info, indent=2, sort_keys=True))"
   ]
  },
  {
   "cell_type": "code",
   "execution_count": 132,
   "metadata": {},
   "outputs": [
    {
     "name": "stdout",
     "output_type": "stream",
     "text": [
      "{\"a_tuple\": [1, 2, 3, 4, 5]}\n",
      "{'a_tuple': [1, 2, 3, 4, 5]}\n",
      "False\n"
     ]
    }
   ],
   "source": [
    "import json\n",
    " \n",
    "data_in = {\n",
    "    'a_tuple': (1, 2, 3, 4, 5),\n",
    "}\n",
    " \n",
    "json_data = json.dumps(data_in)\n",
    "print(json_data)\n",
    "data_out = json.loads(json_data)\n",
    "print(data_out)\n",
    "print(data_in == data_out)\n",
    "\n",
    "# json converts tuple to list"
   ]
  },
  {
   "cell_type": "code",
   "execution_count": 137,
   "metadata": {},
   "outputs": [
    {
     "name": "stdout",
     "output_type": "stream",
     "text": [
      "10\n"
     ]
    },
    {
     "ename": "TypeError",
     "evalue": "Object of type A is not JSON serializable",
     "output_type": "error",
     "traceback": [
      "\u001b[0;31m---------------------------------------------------------------------------\u001b[0m",
      "\u001b[0;31mTypeError\u001b[0m                                 Traceback (most recent call last)",
      "\u001b[0;32m<ipython-input-137-e344e368af67>\u001b[0m in \u001b[0;36m<module>\u001b[0;34m\u001b[0m\n\u001b[1;32m     13\u001b[0m \u001b[0mprint\u001b[0m\u001b[0;34m(\u001b[0m\u001b[0mdata\u001b[0m\u001b[0;34m[\u001b[0m\u001b[0;34m'A'\u001b[0m\u001b[0;34m]\u001b[0m\u001b[0;34m.\u001b[0m\u001b[0ma\u001b[0m\u001b[0;34m)\u001b[0m\u001b[0;34m\u001b[0m\u001b[0;34m\u001b[0m\u001b[0m\n\u001b[1;32m     14\u001b[0m \u001b[0;34m\u001b[0m\u001b[0m\n\u001b[0;32m---> 15\u001b[0;31m \u001b[0mjsonified\u001b[0m \u001b[0;34m=\u001b[0m \u001b[0mjson\u001b[0m\u001b[0;34m.\u001b[0m\u001b[0mdumps\u001b[0m\u001b[0;34m(\u001b[0m\u001b[0mdata\u001b[0m\u001b[0;34m)\u001b[0m\u001b[0;34m\u001b[0m\u001b[0;34m\u001b[0m\u001b[0m\n\u001b[0m\u001b[1;32m     16\u001b[0m \u001b[0mprint\u001b[0m\u001b[0;34m(\u001b[0m\u001b[0mjsonified\u001b[0m\u001b[0;34m)\u001b[0m\u001b[0;34m\u001b[0m\u001b[0;34m\u001b[0m\u001b[0m\n",
      "\u001b[0;32m/usr/lib/python3.8/json/__init__.py\u001b[0m in \u001b[0;36mdumps\u001b[0;34m(obj, skipkeys, ensure_ascii, check_circular, allow_nan, cls, indent, separators, default, sort_keys, **kw)\u001b[0m\n\u001b[1;32m    229\u001b[0m         \u001b[0mcls\u001b[0m \u001b[0;32mis\u001b[0m \u001b[0;32mNone\u001b[0m \u001b[0;32mand\u001b[0m \u001b[0mindent\u001b[0m \u001b[0;32mis\u001b[0m \u001b[0;32mNone\u001b[0m \u001b[0;32mand\u001b[0m \u001b[0mseparators\u001b[0m \u001b[0;32mis\u001b[0m \u001b[0;32mNone\u001b[0m \u001b[0;32mand\u001b[0m\u001b[0;34m\u001b[0m\u001b[0;34m\u001b[0m\u001b[0m\n\u001b[1;32m    230\u001b[0m         default is None and not sort_keys and not kw):\n\u001b[0;32m--> 231\u001b[0;31m         \u001b[0;32mreturn\u001b[0m \u001b[0m_default_encoder\u001b[0m\u001b[0;34m.\u001b[0m\u001b[0mencode\u001b[0m\u001b[0;34m(\u001b[0m\u001b[0mobj\u001b[0m\u001b[0;34m)\u001b[0m\u001b[0;34m\u001b[0m\u001b[0;34m\u001b[0m\u001b[0m\n\u001b[0m\u001b[1;32m    232\u001b[0m     \u001b[0;32mif\u001b[0m \u001b[0mcls\u001b[0m \u001b[0;32mis\u001b[0m \u001b[0;32mNone\u001b[0m\u001b[0;34m:\u001b[0m\u001b[0;34m\u001b[0m\u001b[0;34m\u001b[0m\u001b[0m\n\u001b[1;32m    233\u001b[0m         \u001b[0mcls\u001b[0m \u001b[0;34m=\u001b[0m \u001b[0mJSONEncoder\u001b[0m\u001b[0;34m\u001b[0m\u001b[0;34m\u001b[0m\u001b[0m\n",
      "\u001b[0;32m/usr/lib/python3.8/json/encoder.py\u001b[0m in \u001b[0;36mencode\u001b[0;34m(self, o)\u001b[0m\n\u001b[1;32m    197\u001b[0m         \u001b[0;31m# exceptions aren't as detailed.  The list call should be roughly\u001b[0m\u001b[0;34m\u001b[0m\u001b[0;34m\u001b[0m\u001b[0;34m\u001b[0m\u001b[0m\n\u001b[1;32m    198\u001b[0m         \u001b[0;31m# equivalent to the PySequence_Fast that ''.join() would do.\u001b[0m\u001b[0;34m\u001b[0m\u001b[0;34m\u001b[0m\u001b[0;34m\u001b[0m\u001b[0m\n\u001b[0;32m--> 199\u001b[0;31m         \u001b[0mchunks\u001b[0m \u001b[0;34m=\u001b[0m \u001b[0mself\u001b[0m\u001b[0;34m.\u001b[0m\u001b[0miterencode\u001b[0m\u001b[0;34m(\u001b[0m\u001b[0mo\u001b[0m\u001b[0;34m,\u001b[0m \u001b[0m_one_shot\u001b[0m\u001b[0;34m=\u001b[0m\u001b[0;32mTrue\u001b[0m\u001b[0;34m)\u001b[0m\u001b[0;34m\u001b[0m\u001b[0;34m\u001b[0m\u001b[0m\n\u001b[0m\u001b[1;32m    200\u001b[0m         \u001b[0;32mif\u001b[0m \u001b[0;32mnot\u001b[0m \u001b[0misinstance\u001b[0m\u001b[0;34m(\u001b[0m\u001b[0mchunks\u001b[0m\u001b[0;34m,\u001b[0m \u001b[0;34m(\u001b[0m\u001b[0mlist\u001b[0m\u001b[0;34m,\u001b[0m \u001b[0mtuple\u001b[0m\u001b[0;34m)\u001b[0m\u001b[0;34m)\u001b[0m\u001b[0;34m:\u001b[0m\u001b[0;34m\u001b[0m\u001b[0;34m\u001b[0m\u001b[0m\n\u001b[1;32m    201\u001b[0m             \u001b[0mchunks\u001b[0m \u001b[0;34m=\u001b[0m \u001b[0mlist\u001b[0m\u001b[0;34m(\u001b[0m\u001b[0mchunks\u001b[0m\u001b[0;34m)\u001b[0m\u001b[0;34m\u001b[0m\u001b[0;34m\u001b[0m\u001b[0m\n",
      "\u001b[0;32m/usr/lib/python3.8/json/encoder.py\u001b[0m in \u001b[0;36miterencode\u001b[0;34m(self, o, _one_shot)\u001b[0m\n\u001b[1;32m    255\u001b[0m                 \u001b[0mself\u001b[0m\u001b[0;34m.\u001b[0m\u001b[0mkey_separator\u001b[0m\u001b[0;34m,\u001b[0m \u001b[0mself\u001b[0m\u001b[0;34m.\u001b[0m\u001b[0mitem_separator\u001b[0m\u001b[0;34m,\u001b[0m \u001b[0mself\u001b[0m\u001b[0;34m.\u001b[0m\u001b[0msort_keys\u001b[0m\u001b[0;34m,\u001b[0m\u001b[0;34m\u001b[0m\u001b[0;34m\u001b[0m\u001b[0m\n\u001b[1;32m    256\u001b[0m                 self.skipkeys, _one_shot)\n\u001b[0;32m--> 257\u001b[0;31m         \u001b[0;32mreturn\u001b[0m \u001b[0m_iterencode\u001b[0m\u001b[0;34m(\u001b[0m\u001b[0mo\u001b[0m\u001b[0;34m,\u001b[0m \u001b[0;36m0\u001b[0m\u001b[0;34m)\u001b[0m\u001b[0;34m\u001b[0m\u001b[0;34m\u001b[0m\u001b[0m\n\u001b[0m\u001b[1;32m    258\u001b[0m \u001b[0;34m\u001b[0m\u001b[0m\n\u001b[1;32m    259\u001b[0m def _make_iterencode(markers, _default, _encoder, _indent, _floatstr,\n",
      "\u001b[0;32m/usr/lib/python3.8/json/encoder.py\u001b[0m in \u001b[0;36mdefault\u001b[0;34m(self, o)\u001b[0m\n\u001b[1;32m    177\u001b[0m \u001b[0;34m\u001b[0m\u001b[0m\n\u001b[1;32m    178\u001b[0m         \"\"\"\n\u001b[0;32m--> 179\u001b[0;31m         raise TypeError(f'Object of type {o.__class__.__name__} '\n\u001b[0m\u001b[1;32m    180\u001b[0m                         f'is not JSON serializable')\n\u001b[1;32m    181\u001b[0m \u001b[0;34m\u001b[0m\u001b[0m\n",
      "\u001b[0;31mTypeError\u001b[0m: Object of type A is not JSON serializable"
     ]
    }
   ],
   "source": [
    "# json will not be able to serialise custom objects by default\n",
    "\n",
    "import json\n",
    "\n",
    "class A:\n",
    "    def __init__(self):\n",
    "        self.a = 10\n",
    "        \n",
    "data = {\n",
    "    'A': A()\n",
    "}\n",
    "\n",
    "print(data['A'].a)\n",
    "\n",
    "jsonified = json.dumps(data)\n",
    "print(jsonified)"
   ]
  },
  {
   "cell_type": "code",
   "execution_count": 140,
   "metadata": {},
   "outputs": [
    {
     "name": "stdout",
     "output_type": "stream",
     "text": [
      "{\"an_int\": 42, \"a_float\": 3.14159265, \"a_complex\": {\"_meta\": \"_complex\", \"num\": [3.0, 4.0]}}\n",
      "{'an_int': 42, 'a_float': 3.14159265, 'a_complex': (3+4j)}\n"
     ]
    }
   ],
   "source": [
    "# Custom Encoding/Decoding with JSON\n",
    "\n",
    "import json\n",
    "\n",
    "\n",
    "class ComplexEncoder(json.JSONEncoder):\n",
    "    def default(self, obj):\n",
    "        if isinstance(obj, complex):\n",
    "            return {\n",
    "                '_meta': '_complex',\n",
    "                'num': [obj.real, obj.imag],\n",
    "            }\n",
    "        return json.JSONEncoder.default(self, obj)\n",
    "\n",
    "\n",
    "data = {\n",
    "    'an_int': 42,\n",
    "    'a_float': 3.14159265,\n",
    "    'a_complex': 3 + 4j,\n",
    "}\n",
    "\n",
    "json_data = json.dumps(data, cls=ComplexEncoder)\n",
    "print(json_data)\n",
    "\n",
    "\n",
    "def object_hook(obj):\n",
    "    try:\n",
    "        if obj['_meta'] == '_complex':\n",
    "            return complex(*obj['num'])\n",
    "    except (KeyError, TypeError):\n",
    "        return obj\n",
    "\n",
    "\n",
    "data_out = json.loads(json_data, object_hook=object_hook)\n",
    "print(data_out)\n"
   ]
  },
  {
   "cell_type": "code",
   "execution_count": null,
   "metadata": {},
   "outputs": [],
   "source": []
  }
 ],
 "metadata": {
  "kernelspec": {
   "display_name": "Python 3",
   "language": "python",
   "name": "python3"
  },
  "language_info": {
   "codemirror_mode": {
    "name": "ipython",
    "version": 3
   },
   "file_extension": ".py",
   "mimetype": "text/x-python",
   "name": "python",
   "nbconvert_exporter": "python",
   "pygments_lexer": "ipython3",
   "version": "3.8.2"
  }
 },
 "nbformat": 4,
 "nbformat_minor": 4
}
