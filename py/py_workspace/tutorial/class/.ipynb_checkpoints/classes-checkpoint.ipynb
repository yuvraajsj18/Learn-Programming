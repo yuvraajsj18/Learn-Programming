{
 "cells": [
  {
   "cell_type": "code",
   "execution_count": 7,
   "metadata": {},
   "outputs": [
    {
     "name": "stdout",
     "output_type": "stream",
     "text": [
      "<class 'type'>\n",
      "<class '__main__.Simplest'>\n",
      "True\n"
     ]
    }
   ],
   "source": [
    "# Simple python class\n",
    "class Simplest:\n",
    "    pass\n",
    "\n",
    "print(type(Simplest))\n",
    "\n",
    "simp = Simplest()\n",
    "print(type(simp))\n",
    "\n",
    "print(type(simp) == Simplest)"
   ]
  },
  {
   "cell_type": "code",
   "execution_count": 5,
   "metadata": {},
   "outputs": [
    {
     "name": "stdout",
     "output_type": "stream",
     "text": [
      "Human\n",
      "True\n",
      "Human\n",
      "True\n",
      "False\n",
      "Darth Vader\n",
      "Darth Voldemort\n"
     ]
    }
   ],
   "source": [
    "# class and object namespaces\n",
    "\n",
    "class Person:\n",
    "    species = 'Human'   # class attribute\n",
    " \n",
    "print(Person.species)\n",
    "Person.alive = True  # added dynamically!\n",
    "print(Person.alive)\n",
    "\n",
    "man = Person()\n",
    "print(man.species)  # inherited\n",
    "print(man.alive)      # inherited\n",
    " \n",
    "Person.alive = False\n",
    "print(man.alive)      # inherited\n",
    "\n",
    "man.name = 'Darth'    # instance attributes\n",
    "man.surname = 'Vader'\n",
    "print(man.name, man.surname)\n",
    "Person.name = \"Voldemort\"\n",
    "print(man.name, Person.name)\n",
    "\n",
    "# Class attributes are shared among all instances, \n",
    "# while instance attributes are not;"
   ]
  },
  {
   "cell_type": "code",
   "execution_count": 7,
   "metadata": {},
   "outputs": [
    {
     "name": "stdout",
     "output_type": "stream",
     "text": [
      "10 7\n",
      "12\n",
      "10\n",
      "10\n",
      "3\n"
     ]
    },
    {
     "ename": "AttributeError",
     "evalue": "type object 'Point' has no attribute 'z'",
     "output_type": "error",
     "traceback": [
      "\u001b[0;31m---------------------------------------------------------------------------\u001b[0m",
      "\u001b[0;31mAttributeError\u001b[0m                            Traceback (most recent call last)",
      "\u001b[0;32m<ipython-input-7-538ba2104df3>\u001b[0m in \u001b[0;36m<module>\u001b[0;34m\u001b[0m\n\u001b[1;32m     18\u001b[0m \u001b[0mprint\u001b[0m\u001b[0;34m(\u001b[0m\u001b[0mp\u001b[0m\u001b[0;34m.\u001b[0m\u001b[0mz\u001b[0m\u001b[0;34m)\u001b[0m \u001b[0;31m# from the instance\u001b[0m\u001b[0;34m\u001b[0m\u001b[0;34m\u001b[0m\u001b[0m\n\u001b[1;32m     19\u001b[0m \u001b[0;34m\u001b[0m\u001b[0m\n\u001b[0;32m---> 20\u001b[0;31m \u001b[0mprint\u001b[0m\u001b[0;34m(\u001b[0m\u001b[0mPoint\u001b[0m\u001b[0;34m.\u001b[0m\u001b[0mz\u001b[0m\u001b[0;34m)\u001b[0m  \u001b[0;31m# AttributeError\u001b[0m\u001b[0;34m\u001b[0m\u001b[0;34m\u001b[0m\u001b[0m\n\u001b[0m\u001b[1;32m     21\u001b[0m \u001b[0;34m\u001b[0m\u001b[0m\n\u001b[1;32m     22\u001b[0m \u001b[0;31m#  Instances get whatever is in the class, but the opposite is not true.\u001b[0m\u001b[0;34m\u001b[0m\u001b[0;34m\u001b[0m\u001b[0;34m\u001b[0m\u001b[0m\n",
      "\u001b[0;31mAttributeError\u001b[0m: type object 'Point' has no attribute 'z'"
     ]
    }
   ],
   "source": [
    "# Attribute shadowing\n",
    "\n",
    "class Point:\n",
    "    x = 10\n",
    "    y = 7\n",
    "    \n",
    "p = Point()\n",
    "print(p.x, p.y)    # from class attributes\n",
    "\n",
    "p.x = 12\n",
    "print(p.x)   # now found on the instance\n",
    "print(Point.x)   # class attribute still the same\n",
    "\n",
    "del p.x   # delete the instance attribute\n",
    "print(p.x)  # now search has to go again to find the class attr\n",
    "\n",
    "p.z = 3\n",
    "print(p.z) # from the instance\n",
    "\n",
    "print(Point.z)  # AttributeError\n",
    "\n",
    "#  Instances get whatever is in the class, but the opposite is not true."
   ]
  },
  {
   "cell_type": "code",
   "execution_count": 11,
   "metadata": {},
   "outputs": [
    {
     "name": "stdout",
     "output_type": "stream",
     "text": [
      "64\n",
      "64\n",
      "100\n"
     ]
    }
   ],
   "source": [
    "# instance attributes using self variable\n",
    "\n",
    "class Square:\n",
    "    side = 8\n",
    "    def area(self):\n",
    "        return self.side ** 2\n",
    "    \n",
    "sq = Square()\n",
    "print(sq.area()) # side is found on the class\n",
    "print(Square.area(sq))   # equivalent to sq.area()\n",
    "\n",
    "sq.side = 10\n",
    "print(sq.area())"
   ]
  },
  {
   "cell_type": "code",
   "execution_count": 20,
   "metadata": {},
   "outputs": [
    {
     "name": "stdout",
     "output_type": "stream",
     "text": [
      "10 4\n",
      "40\n",
      "21\n"
     ]
    }
   ],
   "source": [
    "# Initialisinf an instance with initialiser (constructor)\n",
    "\"\"\"\n",
    "    __init__ method is a magic method, which is run right after the \n",
    "    object is created. Python objects also have a __new__ method which is \n",
    "    the actual constructor. \n",
    "\"\"\"\n",
    "\n",
    "class Rectangle:\n",
    "    def __init__(self, side_a, side_b):\n",
    "        self.side_a = side_a\n",
    "        self.side_b = side_b\n",
    "        \n",
    "    def area(self):\n",
    "        return self.side_a * self.side_b\n",
    "\n",
    "r1 = Rectangle(10, 4)\n",
    "print(r1.side_a, r1.side_b)\n",
    "print(r1.area())\n",
    "\n",
    " \n",
    "r2 = Rectangle(7, 3)\n",
    "print(r2.area())"
   ]
  },
  {
   "cell_type": "code",
   "execution_count": 31,
   "metadata": {},
   "outputs": [
    {
     "name": "stdout",
     "output_type": "stream",
     "text": [
      "Starting engine Engine for car Car...\n",
      "Starting engine V8Engine for car RaceCar...\n",
      "Starting engine ElectricEngine for car CityCar...\n",
      "Starting engine V8Engine for car F1Car...\n"
     ]
    }
   ],
   "source": [
    "# Inheritance and Composition\n",
    "\n",
    "\"\"\"\n",
    "    Inheritance means that two objects are \n",
    "    related by means of an Is-A type of relationship.\n",
    "    \n",
    "    composition means that two objects are \n",
    "    related by means of a Has-A type of relationship.\n",
    "\"\"\"\n",
    "\n",
    "class Engine:\n",
    "    def start(self):\n",
    "        pass\n",
    "\n",
    "    def stop(self):\n",
    "        pass\n",
    "\n",
    "class ElectricEngine(Engine):               # Is-A Engine\n",
    "    pass\n",
    "\n",
    "\n",
    "class V8Engine(Engine):                     # Is-A Engine\n",
    "    pass\n",
    "\n",
    "\n",
    "class Car:\n",
    "    engine_cls = Engine\n",
    "\n",
    "    def __init__(self):\n",
    "        self.engine = self.engine_cls()     # Has-A Engine\n",
    "\n",
    "    def start(self):\n",
    "        print(\n",
    "            f'Starting engine {self.engine.__class__.__name__} for car {self.__class__.__name__}...')\n",
    "        self.engine.start()\n",
    "\n",
    "    def stop(self):\n",
    "        self.engine.stop()\n",
    "\n",
    "        \n",
    "class RaceCar(Car):                         # Is-A Car\n",
    "    engine_cls = V8Engine\n",
    "\n",
    "    \n",
    "class CityCar(Car):                         # Is-A Car\n",
    "    engine_cls = ElectricEngine\n",
    "\n",
    "    \n",
    "class F1Car(RaceCar):                       # Is-A RaceCar and also Is-A Car\n",
    "    pass                                    # engine_cls same as parent\n",
    "\n",
    "\n",
    "car = Car()\n",
    "racecar = RaceCar()\n",
    "citycar = CityCar()\n",
    "f1car = F1Car()\n",
    "cars = [car, racecar, citycar, f1car]\n",
    "\n",
    "for car in cars:\n",
    "    car.start()\n"
   ]
  },
  {
   "cell_type": "code",
   "execution_count": 47,
   "metadata": {},
   "outputs": [
    {
     "name": "stdout",
     "output_type": "stream",
     "text": [
      "car is a Car\n",
      "car is not a RaceCar\n",
      "car is not a F1Car\n",
      "racecar is a Car\n",
      "racecar is a RaceCar\n",
      "racecar is not a F1Car\n",
      "f1car is a Car\n",
      "f1car is a RaceCar\n",
      "f1car is a F1Car\n",
      "\n",
      "Car is a subclass of Car\n",
      "Car is not a subclass of RaceCar\n",
      "Car is not a subclass of F1Car\n",
      "RaceCar is a subclass of Car\n",
      "RaceCar is a subclass of RaceCar\n",
      "RaceCar is not a subclass of F1Car\n",
      "F1Car is a subclass of Car\n",
      "F1Car is a subclass of RaceCar\n",
      "F1Car is a subclass of F1Car\n"
     ]
    }
   ],
   "source": [
    "car = Car()\n",
    "racecar = RaceCar()\n",
    "f1car = F1Car()\n",
    "cars = [(car, 'car'), (racecar, 'racecar'), (f1car, 'f1car')]\n",
    "car_classes = [Car, RaceCar, F1Car]\n",
    " \n",
    "for car, car_name in cars:\n",
    "    for class_ in car_classes:\n",
    "        belongs = isinstance(car, class_)\n",
    "        msg = 'is a' if belongs else 'is not a'\n",
    "        print(car_name, msg, class_.__name__)\n",
    "\n",
    "print()\n",
    "\n",
    "for class1 in car_classes:\n",
    "    for class2 in car_classes:\n",
    "        is_subclass = issubclass(class1, class2)\n",
    "        msg = '{0} a subclass of'.format(\n",
    "            'is' if is_subclass else 'is not')\n",
    "        print(class1.__name__, msg, class2.__name__)"
   ]
  },
  {
   "cell_type": "code",
   "execution_count": 74,
   "metadata": {},
   "outputs": [
    {
     "name": "stdout",
     "output_type": "stream",
     "text": [
      "Learn Python Programming\n",
      "Next Tech\n",
      "8\n",
      "Online\n"
     ]
    }
   ],
   "source": [
    "# Accessing a base class\n",
    "\n",
    "# When we don't specify a base class explicitly, Python will set the \n",
    "# special object class as the base class for the one we're defining.\n",
    "\n",
    "# class A: pass equivalent to class A(object): pass\n",
    "\n",
    "class Course:\n",
    "    def __init__(self, title, provider, lessons):\n",
    "        self.title = title\n",
    "        self.provide = provider\n",
    "        self.lessons = lessons\n",
    "\n",
    "class Content(Course):\n",
    "    def __init__(self, title, provider, lessons, format_):\n",
    "        self.title = title = title\n",
    "        self.provider = provider\n",
    "        self.lessons = lessons\n",
    "        self.format_ = format_\n",
    "        \n",
    "# the above code is bad practice because code is repeated and change in\n",
    "# signature of course init will not reflect in Content\n",
    "\n",
    "class Course:\n",
    "    def __init__(self, title, provider, lessons):\n",
    "        self.title = title\n",
    "        self.provider = provider\n",
    "        self.lessons = lessons\n",
    "\n",
    "class Content(Course):\n",
    "    def __init__(self, title, provider, lessons, format_):\n",
    "#         Course.__init__(self, title, provider, lessons)\n",
    "# the above statement can be written with super keyword so changing name of\n",
    "# super class won't force us to change its init call in all sub classes\n",
    "        super().__init__(title, provider, lessons)\n",
    "        self.format_ = format_\n",
    "    \n",
    "content = Content('Learn Python Programming', 'Next Tech', 8, 'Online')\n",
    "print(content.title)\n",
    "print(content.provider)\n",
    "print(content.lessons)\n",
    "print(content.format_)\n",
    "\n",
    "# super is a function that returns a proxy object \n",
    "# that delegates method calls to a parent or sibling class"
   ]
  },
  {
   "cell_type": "code",
   "execution_count": null,
   "metadata": {},
   "outputs": [],
   "source": [
    "# Multiple Inheritance\n",
    "\n"
   ]
  },
  {
   "cell_type": "code",
   "execution_count": 76,
   "metadata": {},
   "outputs": [
    {
     "name": "stdout",
     "output_type": "stream",
     "text": [
      "Fourth\n",
      "second\n",
      "third\n",
      "first\n",
      "[<class '__main__.Fourth'>, <class '__main__.Second'>, <class '__main__.Third'>, <class '__main__.First'>, <class 'object'>]\n",
      "\n",
      "second\n",
      "first\n"
     ]
    }
   ],
   "source": [
    "# using super with multiple inheritance\n",
    "# super call (for example init) will depend on from which class its called(the mro of the class)\n",
    "\n",
    "class First(object):\n",
    "    def __init__(self):\n",
    "        print (\"first\")\n",
    "\n",
    "class Second(First):\n",
    "    def __init__(self):\n",
    "        print (\"second\")\n",
    "        super().__init__()   # calls third (sibling) if called from fourth otherwise parent first\n",
    "\n",
    "class Third(First):\n",
    "    def __init__(self):\n",
    "        print (\"third\")\n",
    "        super().__init__()  # calls first (parent)\n",
    "\n",
    "class Fourth(Second, Third):\n",
    "    def __init__(self):\n",
    "        print('Fourth')\n",
    "        super().__init__()  # calls second (parent)\n",
    "        \n",
    "f = Fourth()\n",
    "print(Fourth.mro())\n",
    "print()\n",
    "s = Second()"
   ]
  },
  {
   "cell_type": "code",
   "execution_count": 73,
   "metadata": {},
   "outputs": [
    {
     "name": "stdout",
     "output_type": "stream",
     "text": [
      "Start init TextDescriber.__init__()\n",
      "Start WordCounter.__init__()\n",
      "Start init Vocabulary.__init__()\n",
      "Start Tokenizer.__init__()\n",
      "End Tokenizer.__init__()\n",
      "End init Vocabulary.__init__()\n",
      "End WordCounter.__init__()\n",
      "End init TextDescriber.__init__()\n",
      "--------\n",
      "['row', 'row', 'row', 'your', 'boat']\n",
      "{'your', 'boat', 'row'}\n",
      "5\n"
     ]
    }
   ],
   "source": [
    "# Dimond Problem\n",
    "\n",
    "class Tokenizer:\n",
    "    \"\"\"Tokenize text\"\"\"\n",
    "    def __init__(self, text):\n",
    "        print('Start Tokenizer.__init__()')\n",
    "        self.tokens = text.split()\n",
    "        print('End Tokenizer.__init__()')\n",
    "\n",
    "\n",
    "class WordCounter(Tokenizer):\n",
    "    \"\"\"Count words in text\"\"\"\n",
    "    def __init__(self, text):\n",
    "        print('Start WordCounter.__init__()')\n",
    "        super().__init__(text)\n",
    "        self.word_count = len(self.tokens)\n",
    "        print('End WordCounter.__init__()')\n",
    "\n",
    "\n",
    "class Vocabulary(Tokenizer):\n",
    "    \"\"\"Find unique words in text\"\"\"\n",
    "    def __init__(self, text):\n",
    "        print('Start init Vocabulary.__init__()')\n",
    "        super().__init__(text)\n",
    "        self.vocab = set(self.tokens)\n",
    "        print('End init Vocabulary.__init__()')\n",
    "\n",
    "\n",
    "class TextDescriber(WordCounter, Vocabulary):\n",
    "    \"\"\"Describe text with multiple metrics\"\"\"\n",
    "    def __init__(self, text):\n",
    "        print('Start init TextDescriber.__init__()')\n",
    "        super().__init__(text)\n",
    "        print('End init TextDescriber.__init__()')\n",
    "\n",
    "\n",
    "td = TextDescriber('row row row your boat')\n",
    "print('--------')\n",
    "print(td.tokens)\n",
    "print(td.vocab)\n",
    "print(td.word_count)"
   ]
  }
 ],
 "metadata": {
  "kernelspec": {
   "display_name": "Python 3",
   "language": "python",
   "name": "python3"
  },
  "language_info": {
   "codemirror_mode": {
    "name": "ipython",
    "version": 3
   },
   "file_extension": ".py",
   "mimetype": "text/x-python",
   "name": "python",
   "nbconvert_exporter": "python",
   "pygments_lexer": "ipython3",
   "version": "3.8.2"
  }
 },
 "nbformat": 4,
 "nbformat_minor": 4
}
