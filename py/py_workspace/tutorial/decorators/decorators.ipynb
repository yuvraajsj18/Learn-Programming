{
 "cells": [
  {
   "cell_type": "code",
   "execution_count": 1,
   "metadata": {},
   "outputs": [],
   "source": [
    "# need for decorators"
   ]
  },
  {
   "cell_type": "code",
   "execution_count": 2,
   "metadata": {},
   "outputs": [
    {
     "name": "stdout",
     "output_type": "stream",
     "text": [
      "f took 0.3012120723724365\n",
      "g took 0.5010676383972168\n"
     ]
    }
   ],
   "source": [
    "# consider the code\n",
    "# here we are calculating time of execution for two functions\n",
    "# and repeating the same process for both function manually\n",
    "\n",
    "from time import time, sleep\n",
    "\n",
    "def f():\n",
    "    sleep(.3)\n",
    "    \n",
    "def g():\n",
    "    sleep(.5)\n",
    "    \n",
    "t = time()\n",
    "f()\n",
    "print('f took', time() - t)\n",
    "\n",
    "t = time()\n",
    "g()\n",
    "print('g took', time() - t)"
   ]
  },
  {
   "cell_type": "code",
   "execution_count": 5,
   "metadata": {},
   "outputs": [
    {
     "name": "stdout",
     "output_type": "stream",
     "text": [
      "f took 0.30054688453674316\n",
      "g took 0.5006234645843506\n"
     ]
    }
   ],
   "source": [
    "# now we will avoid repeating the code with functions\n",
    "from time import sleep, time\n",
    " \n",
    "def f():\n",
    "    sleep(.3)\n",
    " \n",
    "def g():\n",
    "    sleep(.5)\n",
    " \n",
    "def measure(func):\n",
    "    t = time()\n",
    "    func()\n",
    "    print(func.__name__, 'took', time() - t)\n",
    "    \n",
    "measure(f)\n",
    "measure(g)"
   ]
  },
  {
   "cell_type": "code",
   "execution_count": 42,
   "metadata": {},
   "outputs": [
    {
     "name": "stdout",
     "output_type": "stream",
     "text": [
      "f took 0.30037403106689453\n",
      "f took 0.5007829666137695\n"
     ]
    }
   ],
   "source": [
    "# better version of above code suporting arguments for the function\n",
    "from time import sleep, time\n",
    "\n",
    "def f(sleep_time = 0.1):\n",
    "    sleep(sleep_time)\n",
    "    \n",
    "def measure(func, *args, **kwargs):\n",
    "    t = time()\n",
    "    func(*args, **kwargs)\n",
    "    print(func.__name__, 'took', time() - t)\n",
    "\n",
    "measure(f, sleep_time = 0.3)\n",
    "measure(f, 0.5)"
   ]
  },
  {
   "cell_type": "code",
   "execution_count": null,
   "metadata": {},
   "outputs": [],
   "source": []
  }
 ],
 "metadata": {
  "kernelspec": {
   "display_name": "Python 3.8.2 64-bit",
   "language": "python",
   "name": "python38264bit39601fd8bb9d458ea19b400ca90006bb"
  },
  "language_info": {
   "codemirror_mode": {
    "name": "ipython",
    "version": 3
   },
   "file_extension": ".py",
   "mimetype": "text/x-python",
   "name": "python",
   "nbconvert_exporter": "python",
   "pygments_lexer": "ipython3",
   "version": "3.8.2"
  }
 },
 "nbformat": 4,
 "nbformat_minor": 4
}
