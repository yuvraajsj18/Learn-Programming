{
 "cells": [
  {
   "cell_type": "code",
   "execution_count": null,
   "metadata": {},
   "outputs": [],
   "source": [
    "# need for decorators"
   ]
  },
  {
   "cell_type": "code",
   "execution_count": 2,
   "metadata": {},
   "outputs": [
    {
     "name": "stdout",
     "output_type": "stream",
     "text": [
      "f took 0.3012120723724365\n",
      "g took 0.5010676383972168\n"
     ]
    }
   ],
   "source": [
    "# consider the code\n",
    "# here we are calculating time of execution for two functions\n",
    "# and repeating the same process for both function manually\n",
    "\n",
    "from time import time, sleep\n",
    "\n",
    "def f():\n",
    "    sleep(.3)\n",
    "    \n",
    "def g():\n",
    "    sleep(.5)\n",
    "    \n",
    "t = time()\n",
    "f()\n",
    "print('f took', time() - t)\n",
    "\n",
    "t = time()\n",
    "g()\n",
    "print('g took', time() - t)"
   ]
  },
  {
   "cell_type": "code",
   "execution_count": 5,
   "metadata": {},
   "outputs": [
    {
     "name": "stdout",
     "output_type": "stream",
     "text": [
      "f took 0.30054688453674316\n",
      "g took 0.5006234645843506\n"
     ]
    }
   ],
   "source": [
    "# now we will avoid repeating the code with functions\n",
    "from time import sleep, time\n",
    " \n",
    "def f():\n",
    "    sleep(.3)\n",
    " \n",
    "def g():\n",
    "    sleep(.5)\n",
    " \n",
    "def measure(func):\n",
    "    t = time()\n",
    "    func()\n",
    "    print(func.__name__, 'took', time() - t)\n",
    "    \n",
    "measure(f)\n",
    "measure(g)"
   ]
  },
  {
   "cell_type": "code",
   "execution_count": 1,
   "metadata": {},
   "outputs": [
    {
     "name": "stdout",
     "output_type": "stream",
     "text": [
      "f took 0.3010067939758301\n",
      "f took 0.5007271766662598\n"
     ]
    }
   ],
   "source": [
    "# better version of above code suporting arguments for the function\n",
    "from time import sleep, time\n",
    "\n",
    "def f(sleep_time = 0.1):\n",
    "    sleep(sleep_time)\n",
    "    \n",
    "def measure(func, *args, **kwargs):\n",
    "    t = time()\n",
    "    func(*args, **kwargs)\n",
    "    print(func.__name__, 'took', time() - t)\n",
    "\n",
    "measure(f, sleep_time = 0.3)\n",
    "measure(f, 0.5)"
   ]
  },
  {
   "cell_type": "code",
   "execution_count": 6,
   "metadata": {},
   "outputs": [
    {
     "name": "stdout",
     "output_type": "stream",
     "text": [
      "f took 0.20033645629882812\n",
      "f took 0.3005523681640625\n",
      "wrapper\n"
     ]
    }
   ],
   "source": [
    "# now put the timing behavious in f itself\n",
    "from time import time, sleep\n",
    "\n",
    "def f(sleep_time = 0.1):\n",
    "    sleep(sleep_time)\n",
    "    \n",
    "def measure(func):\n",
    "    def wrapper(*args, **kwargs):\n",
    "        t = time()\n",
    "        func(*args, **kwargs)\n",
    "        print(func.__name__, 'took', time() - t)\n",
    "    return wrapper\n",
    "\n",
    "f = measure(f)   # decoration point\n",
    "f(0.2)\n",
    "f(0.3)\n",
    "print(f.__name__)\n",
    "\n",
    "# This technique is called decoration, and measure is, effectively,\n",
    "# a decorator."
   ]
  },
  {
   "cell_type": "code",
   "execution_count": 10,
   "metadata": {},
   "outputs": [
    {
     "data": {
      "text/plain": [
       "'\\n    Special Syntax for decoration\\n    \\n    def func(arg1, arg2, ...):\\n    pass\\n    func = decorator(func)\\n\\n    # is equivalent to the following:\\n\\n    @decorator\\n    def func(arg1, arg2, ...):\\n        pass\\n        \\n    Multiple decorator to same function\\n    def func(arg1, arg2, ...):\\n    pass\\n    func = deco1(deco2(func))\\n\\n    # is equivalent to the following:\\n\\n    @deco1\\n    @deco2\\n    def func(arg1, arg2, ...):\\n        pass\\n        \\n    Decorators with arguments\\n    def func(arg1, arg2, ...):\\n    pass\\n    func = decoarg(arg_a, arg_b)(func)\\n\\n    # is equivalent to the following:\\n\\n    @decoarg(arg_a, arg_b)\\n    def func(arg1, arg2, ...):\\n        pass\\n    First, decoarg is called with the given arguments,\\n    and then its return value (the actual decorator) \\n    is called with func.\\n'"
      ]
     },
     "execution_count": 10,
     "metadata": {},
     "output_type": "execute_result"
    }
   ],
   "source": [
    "# Decorators in Python\n",
    "\n",
    "\"\"\"\n",
    "    Special Syntax for decoration\n",
    "    \n",
    "    def func(arg1, arg2, ...):\n",
    "    pass\n",
    "    func = decorator(func)\n",
    "\n",
    "    # is equivalent to the following:\n",
    "\n",
    "    @decorator\n",
    "    def func(arg1, arg2, ...):\n",
    "        pass\n",
    "        \n",
    "    Multiple decorator to same function\n",
    "    def func(arg1, arg2, ...):\n",
    "    pass\n",
    "    func = deco1(deco2(func))\n",
    "\n",
    "    # is equivalent to the following:\n",
    "\n",
    "    @deco1\n",
    "    @deco2\n",
    "    def func(arg1, arg2, ...):\n",
    "        pass\n",
    "        \n",
    "    Decorators with arguments\n",
    "    def func(arg1, arg2, ...):\n",
    "    pass\n",
    "    func = decoarg(arg_a, arg_b)(func)\n",
    "\n",
    "    # is equivalent to the following:\n",
    "\n",
    "    @decoarg(arg_a, arg_b)\n",
    "    def func(arg1, arg2, ...):\n",
    "        pass\n",
    "    First, decoarg is called with the given arguments,\n",
    "    and then its return value (the actual decorator) \n",
    "    is called with func.\n",
    "\"\"\""
   ]
  },
  {
   "cell_type": "code",
   "execution_count": 15,
   "metadata": {},
   "outputs": [
    {
     "name": "stdout",
     "output_type": "stream",
     "text": [
      "f took: 0.30043554306030273\n",
      "wrapper name changed to : f\n",
      "f : will sleep for specified time\n"
     ]
    }
   ],
   "source": [
    "\"\"\"\n",
    "    We don't want to lose the original function name and docstring\n",
    "    (and other attributes as well) when we decorate it. \n",
    "    But because inside our decorator we return wrapper, \n",
    "    the original attributes from func are lost and f ends \n",
    "    up being assigned the attributes of wrapper. \n",
    "    There is an easy fix for that from the functools module\n",
    "    \n",
    "\"\"\"\n",
    "from time import sleep, time\n",
    "from functools import wraps\n",
    "\n",
    "def measure(func):\n",
    "    @wraps(func)\n",
    "    def wrapper(*args, **kwargs):\n",
    "        t = time()\n",
    "        func(*args, **kwargs)\n",
    "        print(func.__name__, 'took:', time() - t)\n",
    "        print('wrapper name changed to :', wrapper.__name__)\n",
    "    return wrapper\n",
    "\n",
    "@measure\n",
    "def f(sleep_time=0.1):\n",
    "    \"\"\"will sleep for specified time\"\"\"\n",
    "    sleep(sleep_time)\n",
    "    \n",
    "f(0.3)\n",
    "print(f.__name__, ':', f.__doc__)"
   ]
  },
  {
   "cell_type": "code",
   "execution_count": 67,
   "metadata": {},
   "outputs": [
    {
     "name": "stdout",
     "output_type": "stream",
     "text": [
      "cube took: 3.814697265625e-06\n",
      "8\n",
      "Result is too big (125). Max allowed is 100\n",
      "None\n"
     ]
    }
   ],
   "source": [
    "from time import sleep, time\n",
    "from functools import wraps\n",
    " \n",
    "def measure(func):\n",
    "    @wraps(func)\n",
    "    def wrapper(*args, **kwargs):\n",
    "        t = time()\n",
    "        result = func(*args, **kwargs)\n",
    "        print(func.__name__, 'took:', time() - t)\n",
    "        return result\n",
    "    return wrapper\n",
    " \n",
    "def max_result(func):\n",
    "    @wraps(func)\n",
    "    def wrapper(*args, **kwargs):\n",
    "        result = func(*args, **kwargs)\n",
    "        if result > 100:\n",
    "            print(f'Result is too big ({result}). Max allowed is 100.')\n",
    "        return result\n",
    "    return wrapper\n",
    " \n",
    "@measure\n",
    "@max_result\n",
    "def cube(n):\n",
    "    return n ** 3\n",
    " \n",
    "print(cube(2))\n",
    "print(cube(5))"
   ]
  },
  {
   "cell_type": "code",
   "execution_count": 36,
   "metadata": {
    "jupyter": {
     "source_hidden": true
    }
   },
   "outputs": [
    {
     "name": "stdout",
     "output_type": "stream",
     "text": [
      "8\n",
      "To Big\n"
     ]
    }
   ],
   "source": [
    "# dont worry about this\n",
    "from functools import wraps\n",
    "\n",
    "def check(func):\n",
    "    @wraps(func)\n",
    "    def wrapper(*args, **kwargs):\n",
    "        res = func(*args, **kwargs)\n",
    "        if res < 100:\n",
    "            return res\n",
    "        return 'To Big'\n",
    "    return wrapper\n",
    "\n",
    "@check\n",
    "def cube(n):\n",
    "    return n ** 3\n",
    "\n",
    "print(cube(2))\n",
    "print(cube(5))\n"
   ]
  },
  {
   "cell_type": "code",
   "execution_count": 56,
   "metadata": {},
   "outputs": [
    {
     "name": "stdout",
     "output_type": "stream",
     "text": [
      "8\n",
      "Result is too big 125. Max allowed is 75.\n",
      "125\n",
      "Result is too big 125. Max allowed is 80.\n",
      "125\n",
      "64\n",
      "100\n",
      "500\n"
     ]
    }
   ],
   "source": [
    "# Decorator Factories\n",
    "from functools import wraps\n",
    "\n",
    "def max_result(threshold):\n",
    "    def decorator(func):\n",
    "        @wraps(func)\n",
    "        def wrapper(*args, **kwargs):\n",
    "            result = func(*args, **kwargs)\n",
    "            if result > threshold:\n",
    "                print(f'Result is too big {result}. Max allowed is {threshold}.')\n",
    "            return result\n",
    "        return wrapper\n",
    "    return decorator\n",
    "\n",
    "@max_result(75)\n",
    "def cube(n):\n",
    "    return n ** 3\n",
    "\n",
    "print(cube(2))\n",
    "print(cube(5))\n",
    "\n",
    "@max_result(80)\n",
    "def cube(n):\n",
    "    return n ** 3\n",
    "\n",
    "print(cube(5))\n",
    "\n",
    "@max_result(100)\n",
    "def square(n):\n",
    "    return n ** 2\n",
    "\n",
    "print(square(8))\n",
    "print(square(10))\n",
    "\n",
    "@max_result(1000)\n",
    "def multiply(a, b):\n",
    "    return a * b\n",
    "\n",
    "print(multiply(10, 50))"
   ]
  },
  {
   "cell_type": "code",
   "execution_count": null,
   "metadata": {},
   "outputs": [],
   "source": []
  }
 ],
 "metadata": {
  "kernelspec": {
   "display_name": "Python 3.8.2 64-bit",
   "language": "python",
   "name": "python38264bit39601fd8bb9d458ea19b400ca90006bb"
  },
  "language_info": {
   "codemirror_mode": {
    "name": "ipython",
    "version": 3
   },
   "file_extension": ".py",
   "mimetype": "text/x-python",
   "name": "python",
   "nbconvert_exporter": "python",
   "pygments_lexer": "ipython3",
   "version": "3.8.2"
  }
 },
 "nbformat": 4,
 "nbformat_minor": 4
}
